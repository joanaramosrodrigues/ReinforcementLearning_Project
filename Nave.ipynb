{
 "cells": [
  {
   "cell_type": "markdown",
   "id": "9d95b7eb",
   "metadata": {},
   "source": [
    "# Reinforcement Learning Project – Lunar Lander (Continuous Environment)\n",
    "\n",
    "## Environment Overview\n",
    "\n",
    "This notebook tackles the **LunarLanderContinuous-v2** environment, where the agent must learn to land a lunar module smoothly on a designated landing pad using continuous control. The complexity of this task comes from its continuous state and action spaces, requiring algorithms capable of function approximation and gradient-based learning.\n",
    "\n",
    "### Environment Characteristics:\n",
    "- **Observation space**: Continuous 8-dimensional vector  \n",
    "  (position, velocity, angle, angular velocity, and leg contact flags)\n",
    "- **Action space**: Continuous 2-dimensional vector  \n",
    "  (main engine and side engine thrusts in the range [-1, 1])\n",
    "\n",
    "## Algorithms Implemented\n",
    "\n",
    "We implement and compare two algorithms for continuous action environments:\n",
    "\n",
    "1. xxx\n"
   ]
  },
  {
   "cell_type": "markdown",
   "id": "7b5e448d",
   "metadata": {},
   "source": [
    "\n",
    "<div style=\"text-align: center;\">\n",
    "    <strong style=\"display: block; margin-bottom: 10px;\">Group ??</strong> \n",
    "    <table style=\"margin: 0 auto; border-collapse: collapse; border: 1px solid black;\">\n",
    "        <tr>\n",
    "            <th style=\"border: 1px solid white; padding: 8px;\">Name</th>\n",
    "            <th style=\"border: 1px solid white; padding: 8px;\">Student ID</th>\n",
    "        </tr>\n",
    "        <tr>\n",
    "            <td style=\"border: 1px solid white; padding: 8px;\">Joana Rodrigues</td>\n",
    "            <td style=\"border: 1px solid white; padding: 8px;\">20240603</td>\n",
    "        </tr>\n",
    "        <tr>\n",
    "            <td style=\"border: 1px solid white; padding: 8px;\">Mara Simões</td>\n",
    "            <td style=\"border: 1px solid white; padding: 8px;\">20240326</td>\n",
    "        </tr>\n",
    "        <tr>\n",
    "            <td style=\"border: 1px solid white; padding: 8px;\">Matilde Street</td>\n",
    "            <td style=\"border: 1px solid white; padding: 8px;\">20240523</td>\n",
    "        </tr>\n",
    "        <tr>\n",
    "            <td style=\"border: 1px solid white; padding: 8px;\">Tomás Luzia</td>\n",
    "            <td style=\"border: 1px solid white; padding: 8px;\">20230477</td>\n",
    "        </tr>\n",
    "    </table>\n",
    "</div>"
   ]
  },
  {
   "cell_type": "markdown",
   "id": "7874db35",
   "metadata": {},
   "source": [
    "### 🔗 Table of Contents <a id='table-of-contents'></a>\n",
    "1. [Imports](#imports)\n",
    "---"
   ]
  },
  {
   "cell_type": "markdown",
   "id": "37b8d66d",
   "metadata": {},
   "source": [
    "# 1. Imports\n",
    "## 1.1. Import Libraries"
   ]
  },
  {
   "cell_type": "code",
   "execution_count": null,
   "id": "054e2ed7",
   "metadata": {},
   "outputs": [],
   "source": [
    "import pandas as pd\n",
    "import matplotlib.pyplot as plt\n",
    "import seaborn as sns\n",
    "import numpy as np"
   ]
  }
 ],
 "metadata": {
  "kernelspec": {
   "display_name": "Python 3",
   "language": "python",
   "name": "python3"
  },
  "language_info": {
   "codemirror_mode": {
    "name": "ipython",
    "version": 3
   },
   "file_extension": ".py",
   "mimetype": "text/x-python",
   "name": "python",
   "nbconvert_exporter": "python",
   "pygments_lexer": "ipython3",
   "version": "3.11.9"
  }
 },
 "nbformat": 4,
 "nbformat_minor": 5
}
